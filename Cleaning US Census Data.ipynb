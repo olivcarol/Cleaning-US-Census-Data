{
 "cells": [
  {
   "cell_type": "markdown",
   "id": "38d420b5",
   "metadata": {},
   "source": [
    "# Cleaning US Census Data"
   ]
  },
  {
   "cell_type": "markdown",
   "id": "3f931b07",
   "metadata": {},
   "source": [
    "**This project is part of the nanodegree course \"Data Science\" offered by Codecademy (www.codecademy.com)**\n",
    "\n",
    "You just got hired as a Data Analyst at the Census Bureau, which collects census data and creates interesting visualizations and insights from it.\n",
    "\n",
    "The person who had your job before you left you all the data they had for the most recent census. It is in multiple csv files. They didn’t use pandas, they would just look through these csv files manually whenever they wanted to find something. Sometimes they would copy and paste certain numbers into Excel to make charts.\n",
    "\n",
    "The thought of it makes you shiver. This is not scalable or repeatable.\n",
    "\n",
    "Your boss wants you to make some scatterplots and histograms by the end of the day. Can you get this data into pandas and into reasonable shape so that you can make these histograms?"
   ]
  },
  {
   "cell_type": "markdown",
   "id": "78924965",
   "metadata": {},
   "source": [
    "## Inspect the Data!"
   ]
  },
  {
   "cell_type": "markdown",
   "id": "b496c38e",
   "metadata": {},
   "source": [
    "The first visualization your boss wants you to make is a scatterplot that shows average income in a state vs proportion of women in that state.\n",
    "\n",
    "Open some of the census csv files in the navigator (click the file icon in the top left corner of the code editor and then click on any of the csv files to open them). How are they named? What kind of information do they hold? Will they help us make this graph?\n",
    "\n",
    "It will be easier to inspect this data once we have it in a DataFrame. You can’t even call .head() on these csvs! How are you supposed to read them?\n",
    "\n",
    "Using glob, loop through the census files available and load them into DataFrames. Then, concatenate all of those DataFrames together into one DataFrame, called something like us_census."
   ]
  },
  {
   "cell_type": "code",
   "execution_count": 34,
   "id": "b520fb37",
   "metadata": {},
   "outputs": [
    {
     "name": "stdout",
     "output_type": "stream",
     "text": [
      "   Unnamed: 0           State  TotalPop             Hispanic  \\\n",
      "0           0    Rhode Island   1053661  13.356666666666700%   \n",
      "1           1  South Carolina   4777576   5.056684981684990%   \n",
      "2           2    South Dakota    843190  3.2396396396396400%   \n",
      "3           3       Tennessee   6499615   4.720026972353340%   \n",
      "4           4           Texas  26538614   38.04673809068300%   \n",
      "\n",
      "                 White                Black                Native  \\\n",
      "0   74.32541666666670%    5.68291666666667%   0.3462500000000000%   \n",
      "1  62.888736263736200%   28.75091575091580%   0.2923992673992670%   \n",
      "2   82.50090090090090%  1.4238738738738800%    9.417567567567570%   \n",
      "3   73.49008766014819%  18.283816587997300%  0.22663519892110600%   \n",
      "4  44.687908934379100%   11.65004782858240%  0.26114405969007100%   \n",
      "\n",
      "                 Asian                Pacific     Income            GenderPop  \n",
      "0  3.2475000000000000%  0.035833333333333300%  $59125.27      510388M_543273F  \n",
      "1   1.249175824175820%  0.046978021978022000%  $46296.81    2322409M_2455167F  \n",
      "2  1.0193693693693700%   0.04189189189189190%  $51805.41      423477M_419713F  \n",
      "3  1.4072825354012100%   0.04315576534052600%  $47328.08    3167756M_3331859F  \n",
      "4  3.6696958102161800%   0.06881576430074610%  $55874.52  13171316M_13367298F  \n"
     ]
    }
   ],
   "source": [
    "import pandas as pd\n",
    "import numpy as np\n",
    "import matplotlib.pyplot as plt\n",
    "import glob\n",
    "\n",
    "states = glob.glob(\"states*.csv\")\n",
    "\n",
    "df_list = []\n",
    "for state in states:\n",
    "  data = pd.read_csv(state)\n",
    "  df_list.append(data)\n",
    "\n",
    "us_census = pd.concat(df_list)\n",
    "print(us_census.head())"
   ]
  },
  {
   "cell_type": "markdown",
   "id": "b49612d1",
   "metadata": {},
   "source": [
    "Look at the .columns and the .dtypes of the us_census DataFrame. Are those datatypes going to hinder you as you try to make histograms?"
   ]
  },
  {
   "cell_type": "code",
   "execution_count": 35,
   "id": "04e0f5ac",
   "metadata": {},
   "outputs": [
    {
     "name": "stdout",
     "output_type": "stream",
     "text": [
      "Index(['Unnamed: 0', 'State', 'TotalPop', 'Hispanic', 'White', 'Black',\n",
      "       'Native', 'Asian', 'Pacific', 'Income', 'GenderPop'],\n",
      "      dtype='object')\n",
      "Unnamed: 0     int64\n",
      "State         object\n",
      "TotalPop       int64\n",
      "Hispanic      object\n",
      "White         object\n",
      "Black         object\n",
      "Native        object\n",
      "Asian         object\n",
      "Pacific       object\n",
      "Income        object\n",
      "GenderPop     object\n",
      "dtype: object\n"
     ]
    }
   ],
   "source": [
    "print(us_census.columns)\n",
    "print(us_census.dtypes)"
   ]
  },
  {
   "cell_type": "markdown",
   "id": "58be247b",
   "metadata": {},
   "source": [
    "## Regex to the Rescue"
   ]
  },
  {
   "cell_type": "markdown",
   "id": "3caed8d2",
   "metadata": {},
   "source": [
    "Use regex to turn the Income column into a format that is ready for conversion into a numerical type."
   ]
  },
  {
   "cell_type": "code",
   "execution_count": 36,
   "id": "598f89a7",
   "metadata": {},
   "outputs": [
    {
     "name": "stdout",
     "output_type": "stream",
     "text": [
      "   Unnamed: 0           State  TotalPop             Hispanic  \\\n",
      "0           0    Rhode Island   1053661  13.356666666666700%   \n",
      "1           1  South Carolina   4777576   5.056684981684990%   \n",
      "2           2    South Dakota    843190  3.2396396396396400%   \n",
      "3           3       Tennessee   6499615   4.720026972353340%   \n",
      "4           4           Texas  26538614   38.04673809068300%   \n",
      "\n",
      "                 White                Black                Native  \\\n",
      "0   74.32541666666670%    5.68291666666667%   0.3462500000000000%   \n",
      "1  62.888736263736200%   28.75091575091580%   0.2923992673992670%   \n",
      "2   82.50090090090090%  1.4238738738738800%    9.417567567567570%   \n",
      "3   73.49008766014819%  18.283816587997300%  0.22663519892110600%   \n",
      "4  44.687908934379100%   11.65004782858240%  0.26114405969007100%   \n",
      "\n",
      "                 Asian                Pacific    Income            GenderPop  \n",
      "0  3.2475000000000000%  0.035833333333333300%  59125.27      510388M_543273F  \n",
      "1   1.249175824175820%  0.046978021978022000%  46296.81    2322409M_2455167F  \n",
      "2  1.0193693693693700%   0.04189189189189190%  51805.41      423477M_419713F  \n",
      "3  1.4072825354012100%   0.04315576534052600%  47328.08    3167756M_3331859F  \n",
      "4  3.6696958102161800%   0.06881576430074610%  55874.52  13171316M_13367298F  \n",
      "Unnamed: 0      int64\n",
      "State          object\n",
      "TotalPop        int64\n",
      "Hispanic       object\n",
      "White          object\n",
      "Black          object\n",
      "Native         object\n",
      "Asian          object\n",
      "Pacific        object\n",
      "Income        float64\n",
      "GenderPop      object\n",
      "dtype: object\n"
     ]
    }
   ],
   "source": [
    "#Removing '$' from the Income column:\n",
    "us_census.Income = us_census['Income'].replace('[\\$,]' , '', regex = True)\n",
    "\n",
    "#Turning the Income column to numeric type:\n",
    "us_census.Income = pd.to_numeric(us_census.Income)\n",
    "\n",
    "print(us_census.head())\n",
    "print(us_census.dtypes)"
   ]
  },
  {
   "cell_type": "markdown",
   "id": "6c86320d",
   "metadata": {},
   "source": [
    "Now look at the GenderPop column. We are going to want to separate this into two columns, the Men column, and the Women column.\n",
    "\n",
    "Split the column into those two new columns using str.split and separating out those results. Then, convert both of the columns into numerical datatypes.\n",
    "\n",
    "There is still an M or an F character in each entry! We should remove those before we convert."
   ]
  },
  {
   "cell_type": "code",
   "execution_count": 37,
   "id": "04c887cf",
   "metadata": {},
   "outputs": [
    {
     "name": "stdout",
     "output_type": "stream",
     "text": [
      "   Unnamed: 0           State  TotalPop             Hispanic  \\\n",
      "0           0    Rhode Island   1053661  13.356666666666700%   \n",
      "1           1  South Carolina   4777576   5.056684981684990%   \n",
      "2           2    South Dakota    843190  3.2396396396396400%   \n",
      "3           3       Tennessee   6499615   4.720026972353340%   \n",
      "4           4           Texas  26538614   38.04673809068300%   \n",
      "\n",
      "                 White                Black                Native  \\\n",
      "0   74.32541666666670%    5.68291666666667%   0.3462500000000000%   \n",
      "1  62.888736263736200%   28.75091575091580%   0.2923992673992670%   \n",
      "2   82.50090090090090%  1.4238738738738800%    9.417567567567570%   \n",
      "3   73.49008766014819%  18.283816587997300%  0.22663519892110600%   \n",
      "4  44.687908934379100%   11.65004782858240%  0.26114405969007100%   \n",
      "\n",
      "                 Asian                Pacific    Income            GenderPop  \\\n",
      "0  3.2475000000000000%  0.035833333333333300%  59125.27      510388M_543273F   \n",
      "1   1.249175824175820%  0.046978021978022000%  46296.81    2322409M_2455167F   \n",
      "2  1.0193693693693700%   0.04189189189189190%  51805.41      423477M_419713F   \n",
      "3  1.4072825354012100%   0.04315576534052600%  47328.08    3167756M_3331859F   \n",
      "4  3.6696958102161800%   0.06881576430074610%  55874.52  13171316M_13367298F   \n",
      "\n",
      "     MenPop    WomenPop  \n",
      "0    510388    543273.0  \n",
      "1   2322409   2455167.0  \n",
      "2    423477    419713.0  \n",
      "3   3167756   3331859.0  \n",
      "4  13171316  13367298.0  \n",
      "Unnamed: 0      int64\n",
      "State          object\n",
      "TotalPop        int64\n",
      "Hispanic       object\n",
      "White          object\n",
      "Black          object\n",
      "Native         object\n",
      "Asian          object\n",
      "Pacific        object\n",
      "Income        float64\n",
      "GenderPop      object\n",
      "MenPop          int64\n",
      "WomenPop      float64\n",
      "dtype: object\n"
     ]
    }
   ],
   "source": [
    "genders = us_census.GenderPop.str.split(\"_\")\n",
    "\n",
    "us_census[\"MenPop\"] = pd.to_numeric(genders.str.get(0).str[:-1])\n",
    "us_census[\"WomenPop\"] = pd.to_numeric(genders.str.get(1).str[:-1])\n",
    "\n",
    "print(us_census.head())\n",
    "print(us_census.dtypes)"
   ]
  },
  {
   "cell_type": "markdown",
   "id": "5a2b5e11",
   "metadata": {},
   "source": [
    "These monstrous csv files probably have nan values in them! Print out your column with the number of women per state to see.\n",
    "\n",
    "We can fill in those nans by using pandas’ .fillna() function.\n",
    "\n",
    "You have the TotalPop per state, and you have the Men per state. As an estimate for the nan values in the Women column, you could use the TotalPop of that state minus the Men for that state.\n",
    "\n",
    "Print out the Women column after filling the nan values to see if it worked!"
   ]
  },
  {
   "cell_type": "code",
   "execution_count": 38,
   "id": "4f5566f2",
   "metadata": {},
   "outputs": [
    {
     "name": "stdout",
     "output_type": "stream",
     "text": [
      "                  State    WomenPop\n",
      "0          Rhode Island    543273.0\n",
      "1        South Carolina   2455167.0\n",
      "2          South Dakota    419713.0\n",
      "3             Tennessee   3331859.0\n",
      "4                 Texas  13367298.0\n",
      "5                  Utah   1444150.0\n",
      "0                  Utah   1444150.0\n",
      "1               Vermont    318031.0\n",
      "2              Virginia   4195682.0\n",
      "3            Washington   3497739.0\n",
      "4         West Virginia    937789.0\n",
      "5             Wisconsin   2890732.0\n",
      "0              Maryland   3057895.0\n",
      "1         Massachusetts   3455936.0\n",
      "2              Michigan   5038598.0\n",
      "3             Minnesota   2727005.0\n",
      "4           Mississippi   1536358.0\n",
      "5              Missouri   3081445.0\n",
      "0              Missouri   3081445.0\n",
      "1               Montana    504536.0\n",
      "2              Nebraska    939759.0\n",
      "3                Nevada   1390901.0\n",
      "4         New Hampshire    670717.0\n",
      "5            New Jersey   4561386.0\n",
      "0                  Ohio   5913084.0\n",
      "1              Oklahoma   1942789.0\n",
      "2                Oregon   1990780.0\n",
      "3          Pennsylvania   6534215.0\n",
      "4           Puerto Rico   1869213.0\n",
      "5          Rhode Island    543273.0\n",
      "0            New Jersey   4561386.0\n",
      "1            New Mexico   1051703.0\n",
      "2              New York  10131373.0\n",
      "3        North Carolina   5049925.0\n",
      "4          North Dakota    353677.0\n",
      "5                  Ohio   5913084.0\n",
      "0               Georgia   5123362.0\n",
      "1                Hawaii    696428.0\n",
      "2                 Idaho    806083.0\n",
      "3              Illinois   6556862.0\n",
      "4               Indiana   3333382.0\n",
      "5                  Iowa   1558931.0\n",
      "0                  Iowa   1558931.0\n",
      "1                Kansas   1453125.0\n",
      "2              Kentucky   2233145.0\n",
      "3             Louisiana   2364097.0\n",
      "4                 Maine    679019.0\n",
      "5              Maryland   3057895.0\n",
      "0              Colorado   2630239.0\n",
      "1           Connecticut   1841615.0\n",
      "2              Delaware    478041.0\n",
      "3  District of Columbia    340810.0\n",
      "4               Florida  10045763.0\n",
      "5               Georgia   5123362.0\n",
      "0               Alabama   2489527.0\n",
      "1                Alaska    349215.0\n",
      "2               Arizona   3342840.0\n",
      "3              Arkansas   1506295.0\n",
      "4            California  19334329.0\n",
      "5              Colorado   2630239.0\n"
     ]
    }
   ],
   "source": [
    "us_census = us_census.fillna(value = {\"WomenPop\": us_census.TotalPop - us_census.MenPop})\n",
    "\n",
    "#print(us_census.head())\n",
    "print(us_census[[\"State\", \"WomenPop\"]])"
   ]
  },
  {
   "cell_type": "markdown",
   "id": "6d8a8b43",
   "metadata": {},
   "source": [
    "We forgot to check for duplicates! Use .duplicated() on your census DataFrame to see if we have duplicate rows in there.\n",
    "\n",
    "Drop those duplicates using the .drop_duplicates() function."
   ]
  },
  {
   "cell_type": "code",
   "execution_count": 39,
   "id": "cfea7842",
   "metadata": {},
   "outputs": [
    {
     "name": "stdout",
     "output_type": "stream",
     "text": [
      "            State  TotalPop             Hispanic                White  \\\n",
      "0    Rhode Island   1053661  13.356666666666700%   74.32541666666670%   \n",
      "1  South Carolina   4777576   5.056684981684990%  62.888736263736200%   \n",
      "2    South Dakota    843190  3.2396396396396400%   82.50090090090090%   \n",
      "3       Tennessee   6499615   4.720026972353340%   73.49008766014819%   \n",
      "4           Texas  26538614   38.04673809068300%  44.687908934379100%   \n",
      "\n",
      "                 Black                Native                Asian  \\\n",
      "0    5.68291666666667%   0.3462500000000000%  3.2475000000000000%   \n",
      "1   28.75091575091580%   0.2923992673992670%   1.249175824175820%   \n",
      "2  1.4238738738738800%    9.417567567567570%  1.0193693693693700%   \n",
      "3  18.283816587997300%  0.22663519892110600%  1.4072825354012100%   \n",
      "4   11.65004782858240%  0.26114405969007100%  3.6696958102161800%   \n",
      "\n",
      "                 Pacific    Income            GenderPop    MenPop    WomenPop  \n",
      "0  0.035833333333333300%  59125.27      510388M_543273F    510388    543273.0  \n",
      "1  0.046978021978022000%  46296.81    2322409M_2455167F   2322409   2455167.0  \n",
      "2   0.04189189189189190%  51805.41      423477M_419713F    423477    419713.0  \n",
      "3   0.04315576534052600%  47328.08    3167756M_3331859F   3167756   3331859.0  \n",
      "4   0.06881576430074610%  55874.52  13171316M_13367298F  13171316  13367298.0  \n",
      "0     False\n",
      "1     False\n",
      "2     False\n",
      "3     False\n",
      "4     False\n",
      "5     False\n",
      "6     False\n",
      "7     False\n",
      "8     False\n",
      "9     False\n",
      "10    False\n",
      "11    False\n",
      "12    False\n",
      "13    False\n",
      "14    False\n",
      "15    False\n",
      "16    False\n",
      "17    False\n",
      "18    False\n",
      "19    False\n",
      "20    False\n",
      "21    False\n",
      "22    False\n",
      "23    False\n",
      "24    False\n",
      "25    False\n",
      "26    False\n",
      "27    False\n",
      "28    False\n",
      "29    False\n",
      "30    False\n",
      "31    False\n",
      "32    False\n",
      "33    False\n",
      "34    False\n",
      "35    False\n",
      "36    False\n",
      "37    False\n",
      "38    False\n",
      "39    False\n",
      "40    False\n",
      "41    False\n",
      "42    False\n",
      "43    False\n",
      "44    False\n",
      "45    False\n",
      "46    False\n",
      "47    False\n",
      "48    False\n",
      "49    False\n",
      "50    False\n",
      "dtype: bool\n"
     ]
    }
   ],
   "source": [
    "us_census = us_census.drop(columns = [\"Unnamed: 0\"])\n",
    "us_census = us_census.drop_duplicates().reset_index(drop = True)\n",
    "\n",
    "print(us_census.head())\n",
    "print(us_census.duplicated())"
   ]
  },
  {
   "cell_type": "markdown",
   "id": "d28db794",
   "metadata": {},
   "source": [
    "Now you should have the columns you need to make the graph and make sure your boss does not slam a ruler angrily on your desk because you’ve wasted your whole day cleaning your data with no results to show!\n",
    "\n",
    "Use matplotlib to make a scatterplot!"
   ]
  },
  {
   "cell_type": "code",
   "execution_count": 40,
   "id": "af4bf292",
   "metadata": {},
   "outputs": [
    {
     "data": {
      "image/png": "[encoded data removed]",
      "text/plain": [
       "<Figure size 432x288 with 1 Axes>"
      ]
     },
     "metadata": {
      "needs_background": "light"
     },
     "output_type": "display_data"
    }
   ],
   "source": [
    "plt.scatter(us_census.WomenPop, us_census.Income)\n",
    "plt.title(\"Women Income\")\n",
    "plt.xlabel(\"Women Population (Millions)\")\n",
    "plt.ylabel(\"Income (Dollars)\")\n",
    "\n",
    "plt.show()"
   ]
  },
  {
   "cell_type": "markdown",
   "id": "1e99040e",
   "metadata": {},
   "source": [
    "## Histograms of Races"
   ]
  },
  {
   "cell_type": "markdown",
   "id": "ce2ca288",
   "metadata": {},
   "source": [
    "Now, your boss wants you to make a bunch of histograms out of the race data that you have. Look at the .columns again to see what the race categories are."
   ]
  },
  {
   "cell_type": "code",
   "execution_count": 41,
   "id": "779772a1",
   "metadata": {},
   "outputs": [
    {
     "name": "stdout",
     "output_type": "stream",
     "text": [
      "Index(['State', 'TotalPop', 'Hispanic', 'White', 'Black', 'Native', 'Asian',\n",
      "       'Pacific', 'Income', 'GenderPop', 'MenPop', 'WomenPop'],\n",
      "      dtype='object')\n"
     ]
    }
   ],
   "source": [
    "print(us_census.columns)"
   ]
  },
  {
   "cell_type": "markdown",
   "id": "c9d958ac",
   "metadata": {},
   "source": [
    "Try to make a histogram for each one!\n",
    "\n",
    "You will have to get the columns into numerical format, and those percentage signs will have to go.\n",
    "\n",
    "Don’t forget to fill the nan values with something that makes sense! You probably dropped the duplicate rows when making your last graph, but it couldn’t hurt to check for duplicates again."
   ]
  },
  {
   "cell_type": "code",
   "execution_count": 42,
   "id": "95c592a8",
   "metadata": {},
   "outputs": [
    {
     "name": "stdout",
     "output_type": "stream",
     "text": [
      "    Hispanic      White      Black    Native     Asian   Pacific\n",
      "0  13.356667  74.325417   5.682917  0.346250  3.247500  0.035833\n",
      "1   5.056685  62.888736  28.750916  0.292399  1.249176  0.046978\n",
      "2   3.239640  82.500901   1.423874  9.417568  1.019369  0.041892\n",
      "3   4.720027  73.490088  18.283817  0.226635  1.407283  0.043156\n",
      "4  38.046738  44.687909  11.650048  0.261144  3.669696  0.068816\n",
      "Hispanic    float64\n",
      "White       float64\n",
      "Black       float64\n",
      "Native      float64\n",
      "Asian       float64\n",
      "Pacific     float64\n",
      "dtype: object\n",
      "Hispanic    0\n",
      "White       0\n",
      "Black       0\n",
      "Native      0\n",
      "Asian       0\n",
      "Pacific     4\n",
      "dtype: int64\n"
     ]
    },
    {
     "name": "stderr",
     "output_type": "stream",
     "text": [
      "<ipython-input-42-bbca13369137>:6: SettingWithCopyWarning: \n",
      "A value is trying to be set on a copy of a slice from a DataFrame.\n",
      "Try using .loc[row_indexer,col_indexer] = value instead\n",
      "\n",
      "See the caveats in the documentation: https://pandas.pydata.org/pandas-docs/stable/user_guide/indexing.html#returning-a-view-versus-a-copy\n",
      "  races[column] = pd.to_numeric(races[column].str[:-1])\n"
     ]
    }
   ],
   "source": [
    "races_names = [\"Hispanic\", \"White\", \"Black\", \"Native\", \"Asian\", \"Pacific\"]\n",
    "races = us_census[races_names]\n",
    "\n",
    "#Removing the '%' from the columns of races:\n",
    "for column in races.columns:\n",
    "  races[column] = pd.to_numeric(races[column].str[:-1])\n",
    "\n",
    "print(races.head())\n",
    "print(races.dtypes)\n",
    "print(races.isna().sum())"
   ]
  },
  {
   "cell_type": "code",
   "execution_count": 16,
   "id": "4bea9496",
   "metadata": {},
   "outputs": [
    {
     "name": "stdout",
     "output_type": "stream",
     "text": [
      "    Hispanic      White      Black    Native     Asian   Pacific\n",
      "0  13.356667  74.325417   5.682917  0.346250  3.247500  0.035833\n",
      "1   5.056685  62.888736  28.750916  0.292399  1.249176  0.046978\n",
      "2   3.239640  82.500901   1.423874  9.417568  1.019369  0.041892\n",
      "3   4.720027  73.490088  18.283817  0.226635  1.407283  0.043156\n",
      "4  38.046738  44.687909  11.650048  0.261144  3.669696  0.068816\n",
      "0\n"
     ]
    }
   ],
   "source": [
    "#Filling in the missing values:\n",
    "races = races.fillna(value = {\n",
    "    \"Pacific\": 100 - races.Hispanic - races.White - races.Black - races.Native - races.Asian\n",
    "})\n",
    "\n",
    "print(races.head())\n",
    "print(races.duplicated().sum())"
   ]
  },
  {
   "cell_type": "markdown",
   "id": "4a901193",
   "metadata": {},
   "source": [
    "## Histograms:"
   ]
  },
  {
   "cell_type": "code",
   "execution_count": 47,
   "id": "1dd93d08",
   "metadata": {},
   "outputs": [
    {
     "data": {
      "image/png": "[encoded data removed]",
      "text/plain": [
       "<Figure size 936x936 with 6 Axes>"
      ]
     },
     "metadata": {
      "needs_background": "light"
     },
     "output_type": "display_data"
    }
   ],
   "source": [
    "plt.figure(figsize = [13, 13])\n",
    "for index, race in enumerate(races.columns):\n",
    "  ax = plt.subplot(3, 2, index + 1)\n",
    "  plt.hist(races[race])\n",
    "  plt.title(race)\n",
    "\n",
    "plt.tight_layout(pad = 6)\n",
    "plt.show()"
   ]
  },
  {
   "cell_type": "markdown",
   "id": "0a605d51",
   "metadata": {},
   "source": [
    "## Pie Chart:"
   ]
  },
  {
   "cell_type": "code",
   "execution_count": 49,
   "id": "d3ff6f91",
   "metadata": {},
   "outputs": [
    {
     "data": {
      "image/png": "[encoded data removed]",
      "text/plain": [
       "<Figure size 576x432 with 1 Axes>"
      ]
     },
     "metadata": {},
     "output_type": "display_data"
    }
   ],
   "source": [
    "races[\"TotalPop\"] = us_census.TotalPop\n",
    "for race in races.columns[:-1]:\n",
    "  races[f\"{race}_pop\"] = (races.TotalPop * races[race] / 100).round()\n",
    "\n",
    "sum_of_races = [races[f\"{race}_pop\"].sum() for race in races if race in races_names]\n",
    "plt.figure(figsize = (8, 6))\n",
    "plt.pie(\n",
    "  sum_of_races,\n",
    "  autopct = \"%.1f%%\",\n",
    "  labels = races_names\n",
    ")\n",
    "plt.axis(\"equal\")\n",
    "plt.title(\"Race Distribution in the USA\", fontsize = 20)\n",
    "plt.show()"
   ]
  }
 ],
 "metadata": {
  "kernelspec": {
   "display_name": "Python 3",
   "language": "python",
   "name": "python3"
  },
  "language_info": {
   "codemirror_mode": {
    "name": "ipython",
    "version": 3
   },
   "file_extension": ".py",
   "mimetype": "text/x-python",
   "name": "python",
   "nbconvert_exporter": "python",
   "pygments_lexer": "ipython3",
   "version": "3.8.3"
  }
 },
 "nbformat": 4,
 "nbformat_minor": 5
}
